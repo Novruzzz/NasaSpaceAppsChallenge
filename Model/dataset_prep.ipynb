{
 "cells": [
  {
   "cell_type": "code",
   "execution_count": 1,
   "metadata": {},
   "outputs": [],
   "source": [
    "import pandas as pd\n",
    "import numpy as np\n",
    "import obspy\n",
    "import os\n",
    "import scipy"
   ]
  },
  {
   "cell_type": "code",
   "execution_count": 2,
   "metadata": {},
   "outputs": [
    {
     "data": {
      "text/html": [
       "<div>\n",
       "<style scoped>\n",
       "    .dataframe tbody tr th:only-of-type {\n",
       "        vertical-align: middle;\n",
       "    }\n",
       "\n",
       "    .dataframe tbody tr th {\n",
       "        vertical-align: top;\n",
       "    }\n",
       "\n",
       "    .dataframe thead th {\n",
       "        text-align: right;\n",
       "    }\n",
       "</style>\n",
       "<table border=\"1\" class=\"dataframe\">\n",
       "  <thead>\n",
       "    <tr style=\"text-align: right;\">\n",
       "      <th></th>\n",
       "      <th>filename</th>\n",
       "      <th>time_abs(%Y-%m-%dT%H:%M:%S.%f)</th>\n",
       "      <th>time_rel(sec)</th>\n",
       "      <th>evid</th>\n",
       "      <th>mq_type</th>\n",
       "    </tr>\n",
       "  </thead>\n",
       "  <tbody>\n",
       "    <tr>\n",
       "      <th>0</th>\n",
       "      <td>xa.s12.00.mhz.1970-01-19HR00_evid00002</td>\n",
       "      <td>1970-01-19T20:25:00.000000</td>\n",
       "      <td>73500.0</td>\n",
       "      <td>evid00002</td>\n",
       "      <td>impact_mq</td>\n",
       "    </tr>\n",
       "    <tr>\n",
       "      <th>1</th>\n",
       "      <td>xa.s12.00.mhz.1970-03-25HR00_evid00003</td>\n",
       "      <td>1970-03-25T03:32:00.000000</td>\n",
       "      <td>12720.0</td>\n",
       "      <td>evid00003</td>\n",
       "      <td>impact_mq</td>\n",
       "    </tr>\n",
       "  </tbody>\n",
       "</table>\n",
       "</div>"
      ],
      "text/plain": [
       "                                 filename time_abs(%Y-%m-%dT%H:%M:%S.%f)  \\\n",
       "0  xa.s12.00.mhz.1970-01-19HR00_evid00002     1970-01-19T20:25:00.000000   \n",
       "1  xa.s12.00.mhz.1970-03-25HR00_evid00003     1970-03-25T03:32:00.000000   \n",
       "\n",
       "   time_rel(sec)       evid    mq_type  \n",
       "0        73500.0  evid00002  impact_mq  \n",
       "1        12720.0  evid00003  impact_mq  "
      ]
     },
     "execution_count": 2,
     "metadata": {},
     "output_type": "execute_result"
    }
   ],
   "source": [
    "# Lunar\n",
    "\n",
    "l_catalog = pd.read_csv(\"../data/lunar/training/catalogs/apollo12_catalog_GradeA_final.csv\")\n",
    "l_catalog.head(2)"
   ]
  },
  {
   "cell_type": "code",
   "execution_count": null,
   "metadata": {},
   "outputs": [],
   "source": [
    "data_dirs = [\"../data/lunar/training/data/S12_GradeA\", ]"
   ]
  },
  {
   "cell_type": "code",
   "execution_count": 161,
   "metadata": {},
   "outputs": [],
   "source": []
  },
  {
   "cell_type": "code",
   "execution_count": 197,
   "metadata": {},
   "outputs": [
    {
     "name": "stderr",
     "output_type": "stream",
     "text": [
      "/tmp/ipykernel_6351/2032607069.py:24: DeprecationWarning: Conversion of an array with ndim > 0 to a scalar is deprecated, and will error in future. Ensure you extract a single element from your array before performing this operation. (Deprecated NumPy 1.25.)\n",
      "  tmp[int(tmp_target_id+1)] = 1\n"
     ]
    },
    {
     "name": "stdout",
     "output_type": "stream",
     "text": [
      "../data/lunar/training/data/S12_GradeA/xa.s12.00.mhz.1971-04-13HR00_evid00029.mseed\n"
     ]
    },
    {
     "name": "stderr",
     "output_type": "stream",
     "text": [
      "/tmp/ipykernel_6351/2032607069.py:52: DeprecationWarning: Conversion of an array with ndim > 0 to a scalar is deprecated, and will error in future. Ensure you extract a single element from your array before performing this operation. (Deprecated NumPy 1.25.)\n",
      "  tmp[int(tmp_target_id+1)] = 1\n"
     ]
    }
   ],
   "source": [
    "data    = []\n",
    "targets = []\n",
    "\n",
    "# for Lunar\n",
    "l_catalog = pd.read_csv(\"../data/lunar/training/catalogs/apollo12_catalog_GradeA_final.csv\")\n",
    "l_dir = \"../data/lunar/training/data/S12_GradeA\"\n",
    "for i in l_catalog.index:\n",
    "    filename = f\"{l_dir}/{l_catalog.loc[i, 'filename']}.mseed\"\n",
    "    if os.path.exists(filename):\n",
    "        st = obspy.read(filename)\n",
    "        f, t, sxx = scipy.signal.spectrogram(st.traces[0].data, st.traces[0].stats.sampling_rate)\n",
    "        tmp = np.zeros((sxx.shape[1]-4, 1, 5, sxx.shape[0]))\n",
    "        for k in range(4, sxx.shape[1]-4):\n",
    "            tmp[k][0] = sxx.T[k-4:k+1]\n",
    "        data.append(tmp)\n",
    "\n",
    "        del tmp\n",
    "\n",
    "        tmp = np.zeros((sxx.shape[1]-4))\n",
    "        tmp_target_id = l_catalog.loc[i, 'time_rel(sec)'] // st.traces[0].stats.sampling_rate\n",
    "        tmp_target_id = (tmp_target_id / st.traces[0].data.shape) * sxx.shape[1]\n",
    "        tmp[int(tmp_target_id+1)] = 1\n",
    "\n",
    "        targets.append(tmp)\n",
    "\n",
    "        del tmp\n",
    "    \n",
    "    else:\n",
    "        print(filename)\n",
    "\n",
    "\n",
    "# for Mars\n",
    "m_catalog = pd.read_csv(\"../data/mars/training/catalogs/Mars_InSight_training_catalog_final.csv\")\n",
    "m_dir = \"../data/mars/training/data\"\n",
    "for i in m_catalog.index:\n",
    "    filename = f\"{m_dir}/{m_catalog.loc[i, 'filename'][:-4]}.mseed\"\n",
    "    if os.path.exists(filename):\n",
    "        st = obspy.read(filename)\n",
    "        f, t, sxx = scipy.signal.spectrogram(st.traces[0].data, st.traces[0].stats.sampling_rate)\n",
    "        tmp = np.zeros((sxx.shape[1]-4, 1, 5, sxx.shape[0]))\n",
    "        for k in range(4, sxx.shape[1]-4):\n",
    "            tmp[k][0] = sxx.T[k-4:k+1]\n",
    "        data.append(tmp)\n",
    "\n",
    "        del tmp\n",
    "\n",
    "        tmp = np.zeros((sxx.shape[1]-4))\n",
    "        tmp_target_id = m_catalog.loc[i, \"time_rel(sec)\"] // st.traces[0].stats.sampling_rate\n",
    "        tmp_target_id = (tmp_target_id / st.traces[0].data.shape) * sxx.shape[1]\n",
    "        tmp[int(tmp_target_id+1)] = 1\n",
    "\n",
    "        targets.append(tmp)\n",
    "\n",
    "        del tmp\n",
    "    \n",
    "    else:\n",
    "        print(filename)"
   ]
  },
  {
   "cell_type": "code",
   "execution_count": 212,
   "metadata": {},
   "outputs": [],
   "source": [
    "max_length = max(arr.shape[0] for arr in data)\n",
    "data_pad = []\n",
    "targets_pad = []\n",
    "for arr, tar in zip(data, targets):\n",
    "    if arr.shape[0] < max_length:\n",
    "        padding = [(0, max_length - arr.shape[0])] + [(0, 0)] * 3\n",
    "        padded_arr = np.pad(arr, padding, mode='constant')\n",
    "        data_pad.append(padded_arr)\n",
    "    else:\n",
    "        data_pad.append(arr)\n",
    "    \n",
    "    if tar.shape[0] < max_length:\n",
    "        padding = [(0, max_length - tar.shape[0])]\n",
    "        padded_tar = np.pad(tar, padding, mode='constant')\n",
    "        targets_pad.append(padded_tar)\n",
    "    else:\n",
    "        targets_pad.append(tar)"
   ]
  },
  {
   "cell_type": "code",
   "execution_count": 213,
   "metadata": {},
   "outputs": [],
   "source": [
    "data    = np.array(data_pad)\n",
    "targets = np.array(targets_pad)"
   ]
  },
  {
   "cell_type": "code",
   "execution_count": 216,
   "metadata": {},
   "outputs": [
    {
     "data": {
      "text/plain": [
       "(77, 2551, 1, 5, 129)"
      ]
     },
     "execution_count": 216,
     "metadata": {},
     "output_type": "execute_result"
    }
   ],
   "source": [
    "data.shape"
   ]
  },
  {
   "cell_type": "code",
   "execution_count": 214,
   "metadata": {},
   "outputs": [],
   "source": [
    "import torch"
   ]
  },
  {
   "cell_type": "code",
   "execution_count": 215,
   "metadata": {},
   "outputs": [],
   "source": [
    "torch.save(torch.tensor(data   , dtype=torch.float32), \"data.pt\"   )\n",
    "torch.save(torch.tensor(targets, dtype=torch.float32), \"targets.pt\")"
   ]
  },
  {
   "cell_type": "code",
   "execution_count": null,
   "metadata": {},
   "outputs": [],
   "source": []
  }
 ],
 "metadata": {
  "kernelspec": {
   "display_name": "nsac",
   "language": "python",
   "name": "python3"
  },
  "language_info": {
   "codemirror_mode": {
    "name": "ipython",
    "version": 3
   },
   "file_extension": ".py",
   "mimetype": "text/x-python",
   "name": "python",
   "nbconvert_exporter": "python",
   "pygments_lexer": "ipython3",
   "version": "3.10.0"
  }
 },
 "nbformat": 4,
 "nbformat_minor": 2
}
